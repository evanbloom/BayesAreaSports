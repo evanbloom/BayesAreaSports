{
 "cells": [
  {
   "cell_type": "code",
   "execution_count": 1,
   "metadata": {
    "collapsed": false
   },
   "outputs": [],
   "source": [
    "from predicter import predicter\n",
    "from bokeh.plotting import figure, output_file, show\n",
    "from bokeh.charts import Histogram, output_file, show\n"
   ]
  },
  {
   "cell_type": "code",
   "execution_count": 23,
   "metadata": {
    "collapsed": false
   },
   "outputs": [],
   "source": [
    "my_predicter = predicter(\"../../data/nba.db\")\n",
    "data_dict = my_predicter.vis_data(.9,1, \"GSW\")"
   ]
  },
  {
   "cell_type": "code",
   "execution_count": 24,
   "metadata": {
    "collapsed": false
   },
   "outputs": [],
   "source": [
    "import numpy as np\n",
    "import scipy\n",
    "\n",
    "def pdf_plotter (data_dict):\n",
    "    p4 = figure(title=\"Beta PDF\", tools=\"save\",\n",
    "           background_fill=\"#E8DDCB\")\n",
    "\n",
    "    hist, edges = np.histogram(data_dict['prior_hist'].pct, density=True, bins=25)\n",
    "\n",
    "    x = np.linspace(0, 1, 1000)\n",
    "    prior_pdf = x**(data_dict['prior'][0]-1) * (1-x)**(data_dict['prior'][1]-1)/ \\\n",
    "             scipy.special.beta(data_dict['prior'][0], data_dict['prior'][1])\n",
    "    rescaled_pdf = x**(data_dict['prior_rescaled'][0]-1) * (1-x)**(data_dict['prior_rescaled'][1]-1)/ \\\n",
    "             scipy.special.beta(data_dict['prior_rescaled'][0], data_dict['prior_rescaled'][1])\n",
    "    posterior_pdf =  x**(data_dict['posterior'][0]-1) * (1-x)**(data_dict['posterior'][1]-1)/ \\\n",
    "             scipy.special.beta(data_dict['posterior'][0], data_dict['posterior'][1])\n",
    "\n",
    "\n",
    "\n",
    "    #cdf = scipy.special.btdtr(alpha, beta, x)\n",
    "\n",
    "    p4.quad(top=hist, bottom=0, left=edges[:-1], right=edges[1:], line_color=\"#033649\")\n",
    "    p4.line(x, prior_pdf, line_color=\"#D95B43\", line_width=8, alpha=0.7, legend=\"prior PDF\")\n",
    "    p4.line(x, rescaled_pdf, line_color=\"red\", line_width=8, alpha=0.7, legend=\"rescaled PDF\")\n",
    "    p4.line(x, posterior_pdf, line_color=\"green\", line_width=8, alpha=0.7, legend=\"posterior PDF\")\n",
    "\n",
    "    p4.xaxis.axis_label = 'x'\n",
    "    p4.yaxis.axis_label = 'Pr(x)'\n",
    "    show(p4)"
   ]
  },
  {
   "cell_type": "code",
   "execution_count": 25,
   "metadata": {
    "collapsed": false
   },
   "outputs": [
    {
     "name": "stderr",
     "output_type": "stream",
     "text": [
      "/Users/theblooms/anaconda/lib/python2.7/site-packages/bokeh/util/deprecation.py:33: BokehDeprecationWarning: Plot.background_fill was deprecated in Bokeh 0.11.0 and will be removed, use Plot.background_fill_color instead.\n",
      "  warn(message)\n",
      "ERROR:/Users/theblooms/anaconda/lib/python2.7/site-packages/bokeh/core/validation/check.pyc:E-1001 (BAD_COLUMN_NAME): Glyph refers to nonexistent column name: #navy [renderer: GlyphRenderer(id='0a39f363-c505-4b2b-ad19-072817d22e5e', ...)]\n"
     ]
    }
   ],
   "source": [
    "pdf_plotter (data_dict)"
   ]
  },
  {
   "cell_type": "code",
   "execution_count": 8,
   "metadata": {
    "collapsed": false
   },
   "outputs": [
    {
     "name": "stderr",
     "output_type": "stream",
     "text": [
      "/Users/theblooms/anaconda/lib/python2.7/site-packages/bokeh/util/deprecation.py:33: BokehDeprecationWarning: Plot.background_fill was deprecated in Bokeh 0.11.0 and will be removed, use Plot.background_fill_color instead.\n",
      "  warn(message)\n",
      "/Users/theblooms/anaconda/lib/python2.7/site-packages/bokeh/util/deprecation.py:33: BokehDeprecationWarning: Plot.background_fill was deprecated in Bokeh 0.11.0 and will be removed, use Plot.background_fill_color instead.\n",
      "  warn(message)\n"
     ]
    },
    {
     "ename": "NameError",
     "evalue": "name 'alpha' is not defined",
     "output_type": "error",
     "traceback": [
      "\u001b[0;31m---------------------------------------------------------------------------\u001b[0m",
      "\u001b[0;31mNameError\u001b[0m                                 Traceback (most recent call last)",
      "\u001b[0;32m<ipython-input-8-73f517f87729>\u001b[0m in \u001b[0;36m<module>\u001b[0;34m()\u001b[0m\n\u001b[1;32m      7\u001b[0m        background_fill=\"#E8DDCB\")\n\u001b[1;32m      8\u001b[0m \u001b[0;34m\u001b[0m\u001b[0m\n\u001b[0;32m----> 9\u001b[0;31m \u001b[0mmeasured\u001b[0m \u001b[0;34m=\u001b[0m \u001b[0mnp\u001b[0m\u001b[0;34m.\u001b[0m\u001b[0mrandom\u001b[0m\u001b[0;34m.\u001b[0m\u001b[0mbeta\u001b[0m\u001b[0;34m(\u001b[0m\u001b[0malpha\u001b[0m\u001b[0;34m,\u001b[0m \u001b[0mbeta\u001b[0m\u001b[0;34m,\u001b[0m \u001b[0;36m1000\u001b[0m\u001b[0;34m)\u001b[0m\u001b[0;34m\u001b[0m\u001b[0m\n\u001b[0m\u001b[1;32m     10\u001b[0m \u001b[0mhist\u001b[0m\u001b[0;34m,\u001b[0m \u001b[0medges\u001b[0m \u001b[0;34m=\u001b[0m \u001b[0mnp\u001b[0m\u001b[0;34m.\u001b[0m\u001b[0mhistogram\u001b[0m\u001b[0;34m(\u001b[0m\u001b[0mwinning_pct\u001b[0m\u001b[0;34m,\u001b[0m \u001b[0mdensity\u001b[0m\u001b[0;34m=\u001b[0m\u001b[0mTrue\u001b[0m\u001b[0;34m,\u001b[0m \u001b[0mbins\u001b[0m\u001b[0;34m=\u001b[0m\u001b[0;36m25\u001b[0m\u001b[0;34m)\u001b[0m\u001b[0;34m\u001b[0m\u001b[0m\n\u001b[1;32m     11\u001b[0m \u001b[0;34m\u001b[0m\u001b[0m\n",
      "\u001b[0;31mNameError\u001b[0m: name 'alpha' is not defined"
     ]
    }
   ],
   "source": [
    "\n",
    "p4 = figure(title=\"Beta PDF\", tools=\"save\",\n",
    "       background_fill=\"#E8DDCB\")\n",
    "\n",
    "\n",
    "p5 = figure(title=\"Beta PDF\", tools=\"save\",\n",
    "       background_fill=\"#E8DDCB\")\n",
    "\n",
    "hist, edges = np.histogram(winning_pct, density=True, bins=25)\n",
    "\n",
    "x = np.linspace(0, 1, 1000)\n",
    "pdf = x**(alpha-1) * (1-x)**(beta-1) / scipy.special.beta(alpha, beta)\n",
    "cdf = scipy.special.btdtr(alpha, beta, x)\n",
    "\n",
    "p4.quad(top=hist, bottom=0, left=edges[:-1], right=edges[1:],\n",
    "    fill_color=\"#036564\", line_color=\"#033649\")\n",
    "p4.line(x, pdf, line_color=\"#D95B43\", line_width=8, alpha=0.7, legend=\"PDF\")\n",
    "p4.line(x, cdf, line_color=\"white\", line_width=2, alpha=0.7, legend=\"CDF\")\n",
    "\n",
    "p4.xaxis.axis_label = 'x'\n",
    "p4.yaxis.axis_label = 'Pr(x)'\n",
    "\n",
    "\n",
    "\n",
    "\n",
    "# output to static HTML file\n",
    "output_file(\"pdf.html\")\n",
    "\n",
    "# create a new plot with a title and axis labels\n",
    "p = Histogram(df, values= 'pct', bins=10, color='gray', title=\"Probality Density Functions\")\n",
    "#p = figure(title=\"simple line example\", x_axis_label='x', y_axis_label='y')\n",
    "\n",
    "# add a line renderer with legend and line thickness\n",
    "#p.line(x, y, legend=\"Temp.\", line_width=2)\n",
    "\n",
    "# show the results\n",
    "show(p)"
   ]
  },
  {
   "cell_type": "code",
   "execution_count": 2,
   "metadata": {
    "collapsed": true
   },
   "outputs": [],
   "source": [
    "from bokeh.plotting import figure, output_file, show\n",
    "\n",
    "# prepare some data\n",
    "x = [0.1, 0.5, 1.0, 1.5, 2.0, 2.5, 3.0]\n",
    "y0 = [i**2 for i in x]\n",
    "y1 = [10**i for i in x]\n",
    "y2 = [10**(i**2) for i in x]\n",
    "\n",
    "# output to static HTML file\n",
    "output_file(\"log_lines.html\")\n",
    "\n",
    "# create a new plot\n",
    "p = figure(\n",
    "   tools=\"pan,box_zoom,reset,save\",\n",
    "   y_axis_type=\"log\", y_range=[0.001, 10**11], title=\"log axis example\",\n",
    "   x_axis_label='sections', y_axis_label='particles'\n",
    ")\n",
    "\n",
    "# add some renderers\n",
    "p.line(x, x, legend=\"y=x\")\n",
    "p.circle(x, x, legend=\"y=x\", fill_color=\"white\", size=8)\n",
    "p.line(x, y0, legend=\"y=x^2\", line_width=3)\n",
    "p.line(x, y1, legend=\"y=10^x\", line_color=\"red\")\n",
    "p.circle(x, y1, legend=\"y=10^x\", fill_color=\"red\", line_color=\"red\", size=6)\n",
    "p.line(x, y2, legend=\"y=10^x^2\", line_color=\"orange\", line_dash=\"4 4\")\n",
    "\n",
    "# show the results\n",
    "show(p)"
   ]
  },
  {
   "cell_type": "code",
   "execution_count": null,
   "metadata": {
    "collapsed": true
   },
   "outputs": [],
   "source": []
  },
  {
   "cell_type": "code",
   "execution_count": null,
   "metadata": {
    "collapsed": true
   },
   "outputs": [],
   "source": []
  }
 ],
 "metadata": {
  "kernelspec": {
   "display_name": "Python 2",
   "language": "python",
   "name": "python2"
  },
  "language_info": {
   "codemirror_mode": {
    "name": "ipython",
    "version": 2
   },
   "file_extension": ".py",
   "mimetype": "text/x-python",
   "name": "python",
   "nbconvert_exporter": "python",
   "pygments_lexer": "ipython2",
   "version": "2.7.11"
  }
 },
 "nbformat": 4,
 "nbformat_minor": 0
}
