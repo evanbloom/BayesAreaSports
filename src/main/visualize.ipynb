{
 "cells": [
  {
   "cell_type": "code",
   "execution_count": 1,
   "metadata": {
    "collapsed": false
   },
   "outputs": [],
   "source": [
    "from predicter import predicter\n",
    "from bokeh.plotting import figure, output_file, show\n",
    "from bokeh.charts import Histogram, output_file, show\n"
   ]
  },
  {
   "cell_type": "code",
   "execution_count": 2,
   "metadata": {
    "collapsed": false
   },
   "outputs": [],
   "source": [
    "my_predicter = predicter(\"../../data/nba.db\")\n",
    "data_dict = my_predicter.vis_data(.9,1, \"GSW\", 10)"
   ]
  },
  {
   "cell_type": "code",
   "execution_count": 3,
   "metadata": {
    "collapsed": false
   },
   "outputs": [
    {
     "data": {
      "text/plain": [
       "{'cdf':       prob  wins\n",
       " 0   100.00    26\n",
       " 1   100.00    27\n",
       " 2   100.00    28\n",
       " 3   100.00    29\n",
       " 4   100.00    30\n",
       " 5   100.00    31\n",
       " 6   100.00    32\n",
       " 7   100.00    33\n",
       " 8   100.00    34\n",
       " 9   100.00    35\n",
       " 10  100.00    36\n",
       " 11  100.00    37\n",
       " 12  100.00    38\n",
       " 13  100.00    39\n",
       " 14  100.00    40\n",
       " 15  100.00    41\n",
       " 16  100.00    42\n",
       " 17  100.00    43\n",
       " 18  100.00    44\n",
       " 19  100.00    45\n",
       " 20  100.00    46\n",
       " 21  100.00    47\n",
       " 22  100.00    48\n",
       " 23  100.00    49\n",
       " 24  100.00    50\n",
       " 25  100.00    51\n",
       " 26  100.00    52\n",
       " 27  100.00    53\n",
       " 28  100.00    54\n",
       " 29  100.00    55\n",
       " 30  100.00    56\n",
       " 31   99.99    57\n",
       " 32   99.96    58\n",
       " 33   99.84    59\n",
       " 34   99.46    60\n",
       " 35   98.40    61\n",
       " 36   95.85    62\n",
       " 37   90.55    63\n",
       " 38   81.15    64\n",
       " 39   67.02    65\n",
       " 40   49.29    66\n",
       " 41   31.05    67\n",
       " 42   16.04    68\n",
       " 43    6.45    69\n",
       " 44    1.89    70\n",
       " 45    0.37    71\n",
       " 46    0.04    72\n",
       " 47    0.00    73\n",
       " 48    0.00    74\n",
       " 49    0.00    75\n",
       " 50    0.00    76\n",
       " 51    0.00    77\n",
       " 52    0.00    78,\n",
       " 'posterior': (80.476278688735178, 24.474724047968131),\n",
       " 'prior': (54.476278688735178, 20.474724047968131),\n",
       " 'prior_hist':                        team  year short  wins       pct\n",
       " 0       cleveland_cavaliers  2010   CLE    61  0.743902\n",
       " 1             orlando_magic  2010   ORL    59  0.719512\n",
       " 2        los_angeles_lakers  2010   LAL    57  0.695122\n",
       " 3          dallas_mavericks  2010   DAL    55  0.670732\n",
       " 4             chicago_bulls  2011   CHI    62  0.756098\n",
       " 5                miami_heat  2011   MIA    58  0.707317\n",
       " 6         san_antonio_spurs  2011   SAS    61  0.743902\n",
       " 7          dallas_mavericks  2011   DAL    57  0.695122\n",
       " 8                miami_heat  2013   MIA    66  0.804878\n",
       " 9     oklahoma_city_thunder  2013   OKC    60  0.731707\n",
       " 10        san_antonio_spurs  2013   SAS    58  0.707317\n",
       " 11           indiana_pacers  2014   IND    56  0.682927\n",
       " 12    oklahoma_city_thunder  2014   OKC    59  0.719512\n",
       " 13     los_angeles_clippers  2014   LAC    57  0.695122\n",
       " 14        san_antonio_spurs  2014   SAS    62  0.756098\n",
       " 15            atlanta_hawks  2015   ATL    60  0.731707\n",
       " 16    golden_state_warriors  2015   GSW    67  0.817073\n",
       " 17     los_angeles_clippers  2015   LAC    56  0.682927\n",
       " 18          houston_rockets  2015   HOU    56  0.682927\n",
       " 19           boston_celtics  1980   BOS    61  0.743902\n",
       " 20       philadelphia_76ers  1980   PHI    59  0.719512\n",
       " 21       los_angeles_lakers  1980   LAL    60  0.731707\n",
       " 22           boston_celtics  1981   BOS    62  0.756098\n",
       " 23       philadelphia_76ers  1981   PHI    62  0.756098\n",
       " 24          milwaukee_bucks  1981   MIL    60  0.731707\n",
       " 25           boston_celtics  1982   BOS    63  0.768293\n",
       " 26       philadelphia_76ers  1982   PHI    58  0.707317\n",
       " 27       los_angeles_lakers  1982   LAL    57  0.695122\n",
       " 28       philadelphia_76ers  1983   PHI    65  0.792683\n",
       " 29           boston_celtics  1983   BOS    56  0.682927\n",
       " ..                      ...   ...   ...   ...       ...\n",
       " 102       san_antonio_spurs  2007   SAS    58  0.707317\n",
       " 103          boston_celtics  2008   BOS    66  0.804878\n",
       " 104         detroit_pistons  2008   DET    59  0.719512\n",
       " 105      los_angeles_lakers  2008   LAL    57  0.695122\n",
       " 106       san_antonio_spurs  2008   SAS    56  0.682927\n",
       " 107          boston_celtics  2009   BOS    62  0.756098\n",
       " 108     cleveland_cavaliers  2009   CLE    66  0.804878\n",
       " 109           orlando_magic  2009   ORL    59  0.719512\n",
       " 110      los_angeles_lakers  2009   LAL    65  0.792683\n",
       " 111          boston_celtics  1975   BOS    60  0.731707\n",
       " 112      washington_bullets  1975   WSB    60  0.731707\n",
       " 113          boston_celtics  1976   BOS    54  0.658537\n",
       " 114   golden_state_warriors  1976   GSW    59  0.719512\n",
       " 115      philadelphia_76ers  1977   PHI    50  0.609756\n",
       " 116          denver_nuggets  1977   DEN    50  0.609756\n",
       " 117      los_angeles_lakers  1977   LAL    53  0.646341\n",
       " 118      philadelphia_76ers  1978   PHI    55  0.670732\n",
       " 119       san_antonio_spurs  1978   SAS    52  0.634146\n",
       " 120  portland_trail_blazers  1978   POR    58  0.707317\n",
       " 121      washington_bullets  1979   WSB    54  0.658537\n",
       " 122     seattle_supersonics  1979   SEA    52  0.634146\n",
       " 123            phoenix_suns  1979   PHO    50  0.609756\n",
       " 124         new_york_knicks  1971   NYK    52  0.634146\n",
       " 125         milwaukee_bucks  1971   MIL    66  0.804878\n",
       " 126         milwaukee_bucks  1972   MIL    63  0.768293\n",
       " 127      los_angeles_lakers  1972   LAL    69  0.841463\n",
       " 128          boston_celtics  1973   BOS    68  0.829268\n",
       " 129      los_angeles_lakers  1973   LAL    60  0.731707\n",
       " 130          boston_celtics  1974   BOS    56  0.682927\n",
       " 131         milwaukee_bucks  1974   MIL    59  0.719512\n",
       " \n",
       " [132 rows x 5 columns],\n",
       " 'prior_rescaled': (7.2682521513562461, 2.7317478486437525)}"
      ]
     },
     "execution_count": 3,
     "metadata": {},
     "output_type": "execute_result"
    }
   ],
   "source": [
    "data_dict"
   ]
  },
  {
   "cell_type": "code",
   "execution_count": 12,
   "metadata": {
    "collapsed": false
   },
   "outputs": [
    {
     "name": "stderr",
     "output_type": "stream",
     "text": [
      "/Users/theblooms/anaconda/lib/python2.7/site-packages/bokeh/util/deprecation.py:33: BokehDeprecationWarning: Plot.background_fill was deprecated in Bokeh 0.11.0 and will be removed, use Plot.background_fill_color instead.\n",
      "  warn(message)\n",
      "ERROR:/Users/theblooms/anaconda/lib/python2.7/site-packages/bokeh/core/validation/check.pyc:E-1001 (BAD_COLUMN_NAME): Glyph refers to nonexistent column name: #navy [renderer: GlyphRenderer(id='0a39f363-c505-4b2b-ad19-072817d22e5e', ...)]\n"
     ]
    }
   ],
   "source": [
    "import numpy as np\n",
    "import scipy\n",
    "\n",
    "def pdf_plotter (data_dict)\n",
    "    p4 = figure(title=\"Beta PDF\", tools=\"save\",\n",
    "           background_fill=\"#E8DDCB\")\n",
    "\n",
    "    hist, edges = np.histogram(data_dict['prior_hist'].pct, density=True, bins=25)\n",
    "\n",
    "    x = np.linspace(0, 1, 1000)\n",
    "    prior_pdf = x**(data_dict['prior'][0]-1) * (1-x)**(data_dict['prior'][1]-1)/ \\\n",
    "             scipy.special.beta(data_dict['prior'][0], data_dict['prior'][1])\n",
    "    rescaled_pdf = x**(data_dict['prior_rescaled'][0]-1) * (1-x)**(data_dict['prior_rescaled'][1]-1)/ \\\n",
    "             scipy.special.beta(data_dict['prior_rescaled'][0], data_dict['prior_rescaled'][1])\n",
    "    posterior_pdf =  x**(data_dict['posterior'][0]-1) * (1-x)**(data_dict['posterior'][1]-1)/ \\\n",
    "             scipy.special.beta(data_dict['posterior'][0], data_dict['posterior'][1])\n",
    "\n",
    "\n",
    "\n",
    "    #cdf = scipy.special.btdtr(alpha, beta, x)\n",
    "\n",
    "    p4.quad(top=hist, bottom=0, left=edges[:-1], right=edges[1:],\n",
    "        fill_color=\"#036564\", line_color=\"#033649\")\n",
    "    p4.line(x, prior_pdf, line_color=\"#D95B43\", line_width=8, alpha=0.7, legend=\"prior PDF\")\n",
    "    p4.line(x, rescaled_pdf, line_color=\"red\", line_width=8, alpha=0.7, legend=\"rescaled PDF\")\n",
    "    p4.line(x, posterior_pdf, line_color=\"green\", line_width=8, alpha=0.7, legend=\"posterior PDF\")\n",
    "\n",
    "    p4.xaxis.axis_label = 'x'\n",
    "    p4.yaxis.axis_label = 'Pr(x)'\n",
    "    show(p4)"
   ]
  },
  {
   "cell_type": "code",
   "execution_count": 8,
   "metadata": {
    "collapsed": false
   },
   "outputs": [
    {
     "name": "stderr",
     "output_type": "stream",
     "text": [
      "/Users/theblooms/anaconda/lib/python2.7/site-packages/bokeh/util/deprecation.py:33: BokehDeprecationWarning: Plot.background_fill was deprecated in Bokeh 0.11.0 and will be removed, use Plot.background_fill_color instead.\n",
      "  warn(message)\n",
      "/Users/theblooms/anaconda/lib/python2.7/site-packages/bokeh/util/deprecation.py:33: BokehDeprecationWarning: Plot.background_fill was deprecated in Bokeh 0.11.0 and will be removed, use Plot.background_fill_color instead.\n",
      "  warn(message)\n"
     ]
    },
    {
     "ename": "NameError",
     "evalue": "name 'alpha' is not defined",
     "output_type": "error",
     "traceback": [
      "\u001b[0;31m---------------------------------------------------------------------------\u001b[0m",
      "\u001b[0;31mNameError\u001b[0m                                 Traceback (most recent call last)",
      "\u001b[0;32m<ipython-input-8-73f517f87729>\u001b[0m in \u001b[0;36m<module>\u001b[0;34m()\u001b[0m\n\u001b[1;32m      7\u001b[0m        background_fill=\"#E8DDCB\")\n\u001b[1;32m      8\u001b[0m \u001b[0;34m\u001b[0m\u001b[0m\n\u001b[0;32m----> 9\u001b[0;31m \u001b[0mmeasured\u001b[0m \u001b[0;34m=\u001b[0m \u001b[0mnp\u001b[0m\u001b[0;34m.\u001b[0m\u001b[0mrandom\u001b[0m\u001b[0;34m.\u001b[0m\u001b[0mbeta\u001b[0m\u001b[0;34m(\u001b[0m\u001b[0malpha\u001b[0m\u001b[0;34m,\u001b[0m \u001b[0mbeta\u001b[0m\u001b[0;34m,\u001b[0m \u001b[0;36m1000\u001b[0m\u001b[0;34m)\u001b[0m\u001b[0;34m\u001b[0m\u001b[0m\n\u001b[0m\u001b[1;32m     10\u001b[0m \u001b[0mhist\u001b[0m\u001b[0;34m,\u001b[0m \u001b[0medges\u001b[0m \u001b[0;34m=\u001b[0m \u001b[0mnp\u001b[0m\u001b[0;34m.\u001b[0m\u001b[0mhistogram\u001b[0m\u001b[0;34m(\u001b[0m\u001b[0mwinning_pct\u001b[0m\u001b[0;34m,\u001b[0m \u001b[0mdensity\u001b[0m\u001b[0;34m=\u001b[0m\u001b[0mTrue\u001b[0m\u001b[0;34m,\u001b[0m \u001b[0mbins\u001b[0m\u001b[0;34m=\u001b[0m\u001b[0;36m25\u001b[0m\u001b[0;34m)\u001b[0m\u001b[0;34m\u001b[0m\u001b[0m\n\u001b[1;32m     11\u001b[0m \u001b[0;34m\u001b[0m\u001b[0m\n",
      "\u001b[0;31mNameError\u001b[0m: name 'alpha' is not defined"
     ]
    }
   ],
   "source": [
    "\n",
    "p4 = figure(title=\"Beta PDF\", tools=\"save\",\n",
    "       background_fill=\"#E8DDCB\")\n",
    "\n",
    "\n",
    "p5 = figure(title=\"Beta PDF\", tools=\"save\",\n",
    "       background_fill=\"#E8DDCB\")\n",
    "\n",
    "hist, edges = np.histogram(winning_pct, density=True, bins=25)\n",
    "\n",
    "x = np.linspace(0, 1, 1000)\n",
    "pdf = x**(alpha-1) * (1-x)**(beta-1) / scipy.special.beta(alpha, beta)\n",
    "cdf = scipy.special.btdtr(alpha, beta, x)\n",
    "\n",
    "p4.quad(top=hist, bottom=0, left=edges[:-1], right=edges[1:],\n",
    "    fill_color=\"#036564\", line_color=\"#033649\")\n",
    "p4.line(x, pdf, line_color=\"#D95B43\", line_width=8, alpha=0.7, legend=\"PDF\")\n",
    "p4.line(x, cdf, line_color=\"white\", line_width=2, alpha=0.7, legend=\"CDF\")\n",
    "\n",
    "p4.xaxis.axis_label = 'x'\n",
    "p4.yaxis.axis_label = 'Pr(x)'\n",
    "\n",
    "\n",
    "\n",
    "\n",
    "# output to static HTML file\n",
    "output_file(\"pdf.html\")\n",
    "\n",
    "# create a new plot with a title and axis labels\n",
    "p = Histogram(df, values= 'pct', bins=10, color='gray', title=\"Probality Density Functions\")\n",
    "#p = figure(title=\"simple line example\", x_axis_label='x', y_axis_label='y')\n",
    "\n",
    "# add a line renderer with legend and line thickness\n",
    "#p.line(x, y, legend=\"Temp.\", line_width=2)\n",
    "\n",
    "# show the results\n",
    "show(p)"
   ]
  },
  {
   "cell_type": "code",
   "execution_count": 2,
   "metadata": {
    "collapsed": true
   },
   "outputs": [],
   "source": [
    "from bokeh.plotting import figure, output_file, show\n",
    "\n",
    "# prepare some data\n",
    "x = [0.1, 0.5, 1.0, 1.5, 2.0, 2.5, 3.0]\n",
    "y0 = [i**2 for i in x]\n",
    "y1 = [10**i for i in x]\n",
    "y2 = [10**(i**2) for i in x]\n",
    "\n",
    "# output to static HTML file\n",
    "output_file(\"log_lines.html\")\n",
    "\n",
    "# create a new plot\n",
    "p = figure(\n",
    "   tools=\"pan,box_zoom,reset,save\",\n",
    "   y_axis_type=\"log\", y_range=[0.001, 10**11], title=\"log axis example\",\n",
    "   x_axis_label='sections', y_axis_label='particles'\n",
    ")\n",
    "\n",
    "# add some renderers\n",
    "p.line(x, x, legend=\"y=x\")\n",
    "p.circle(x, x, legend=\"y=x\", fill_color=\"white\", size=8)\n",
    "p.line(x, y0, legend=\"y=x^2\", line_width=3)\n",
    "p.line(x, y1, legend=\"y=10^x\", line_color=\"red\")\n",
    "p.circle(x, y1, legend=\"y=10^x\", fill_color=\"red\", line_color=\"red\", size=6)\n",
    "p.line(x, y2, legend=\"y=10^x^2\", line_color=\"orange\", line_dash=\"4 4\")\n",
    "\n",
    "# show the results\n",
    "show(p)"
   ]
  },
  {
   "cell_type": "code",
   "execution_count": null,
   "metadata": {
    "collapsed": true
   },
   "outputs": [],
   "source": []
  },
  {
   "cell_type": "code",
   "execution_count": null,
   "metadata": {
    "collapsed": true
   },
   "outputs": [],
   "source": []
  }
 ],
 "metadata": {
  "kernelspec": {
   "display_name": "Python 2",
   "language": "python",
   "name": "python2"
  },
  "language_info": {
   "codemirror_mode": {
    "name": "ipython",
    "version": 2
   },
   "file_extension": ".py",
   "mimetype": "text/x-python",
   "name": "python",
   "nbconvert_exporter": "python",
   "pygments_lexer": "ipython2",
   "version": "2.7.11"
  }
 },
 "nbformat": 4,
 "nbformat_minor": 0
}
